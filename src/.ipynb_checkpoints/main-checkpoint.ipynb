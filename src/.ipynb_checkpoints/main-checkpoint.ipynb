{
 "cells": [
  {
   "cell_type": "markdown",
   "metadata": {},
   "source": [
    "<p style=\"text-align: center; font-size: 30px; color: navy; font-weight: bold;\">\n",
    "    Assessment - Coleta de Dados com Python via APIs e WebScraping <br>\n",
    "    Maik Júnior dos Santos\n",
    "</p>"
   ]
  },
  {
   "cell_type": "markdown",
   "metadata": {},
   "source": [
    "## Parte 1: Docs e Regex"
   ]
  },
  {
   "cell_type": "markdown",
   "metadata": {},
   "source": [
    "### Exercício 1:\n",
    "Baixe seu perfil no Linkedin em PDF e utilize o PyPDF2 para construir uma função que retorne a string do texto completo do documento."
   ]
  },
  {
   "cell_type": "code",
   "execution_count": 1,
   "metadata": {},
   "outputs": [],
   "source": [
    "#==> Iportando biblioteca\n",
    "from PyPDF2 import PdfReader"
   ]
  },
  {
   "cell_type": "code",
   "execution_count": 2,
   "metadata": {},
   "outputs": [],
   "source": [
    "#==> lendo .pdf\n",
    "pdf = PdfReader('../file/Profile.pdf')"
   ]
  },
  {
   "cell_type": "code",
   "execution_count": 3,
   "metadata": {},
   "outputs": [
    {
     "data": {
      "text/plain": [
       "'Contato 41984606698 (Mobile) mikjuniorsantos@gmail.com www.linkedin.com/in/maik-junior (LinkedIn) maik-jr.github.io/portfolio_projetos/ (Portfolio) Languages English (Elementary) Português (Native or Bilingual) Certifications Iniciante em Programação | Excel VBA | VB.NET Desenvolvedor RPA UiPath - SupremeMaiK Santos Estudante São José dos Pinhais, Paraná, Brasil Formação acadêmica Instituto Infnet Curso Superior de Tecnologia (CST), Ciência de Dados · (julho de 2023 - dezembro de 2025) UNOPAR - Universidade Norte do Paraná Curso Superior de Tecnologia (CST), Gestão de Recursos Humanos · (abril de 2012 - fevereiro de 2015) Page 1 of 1'"
      ]
     },
     "execution_count": 3,
     "metadata": {},
     "output_type": "execute_result"
    }
   ],
   "source": [
    "#==> Funcao extrai dados do arquivo pdf\n",
    "def le_pdf(documento):\n",
    "    text = '\\n\\n'.join([x.extract_text() for x in documento.pages])\n",
    "    return text\n",
    "\n",
    "#==> Chamando funcao\n",
    "texto = le_pdf(pdf)\n",
    "texto = ' '.join(texto.split())\n",
    "texto"
   ]
  },
  {
   "cell_type": "markdown",
   "metadata": {},
   "source": [
    "---"
   ]
  },
  {
   "cell_type": "markdown",
   "metadata": {},
   "source": [
    "### Exercício 2:\n",
    "Utilize Regex (módulo `re` nativo do Python) para criar uma função que, a partir do texto extraído, retorne um dicionário com as seguintes informações: \n",
    "- Seu número de telefone;\n",
    "- Seu endereço de email; \n",
    "- O link do seu perfil no Linkedin."
   ]
  },
  {
   "cell_type": "code",
   "execution_count": 4,
   "metadata": {},
   "outputs": [],
   "source": [
    "#==> Importando biblioteca\n",
    "import re\n",
    "import csv"
   ]
  },
  {
   "cell_type": "code",
   "execution_count": 5,
   "metadata": {},
   "outputs": [
    {
     "data": {
      "text/plain": [
       "'maik'"
      ]
     },
     "execution_count": 5,
     "metadata": {},
     "output_type": "execute_result"
    }
   ],
   "source": [
    "#==> Recuperando nome\n",
    "nome1 = re.search(r'maik', texto)\n",
    "nome1[0]"
   ]
  },
  {
   "cell_type": "code",
   "execution_count": 6,
   "metadata": {},
   "outputs": [
    {
     "data": {
      "text/plain": [
       "'984606698'"
      ]
     },
     "execution_count": 6,
     "metadata": {},
     "output_type": "execute_result"
    }
   ],
   "source": [
    "#== > Recuperando numero de telefone\n",
    "telefone1 = re.search(r'9\\d{4}-?\\d{4}', texto)\n",
    "telefone1[0]"
   ]
  },
  {
   "cell_type": "code",
   "execution_count": 7,
   "metadata": {},
   "outputs": [
    {
     "data": {
      "text/plain": [
       "' mikjuniorsantos@gmail.com '"
      ]
     },
     "execution_count": 7,
     "metadata": {},
     "output_type": "execute_result"
    }
   ],
   "source": [
    "#== > Recuperando email\n",
    "email1 = re.search(r'\\s*[a-zA-Z0-9._%+-]+@[a-zA-Z0-9.-]+\\.\\s*[a-zA-Z]{2,}\\s*', texto)\n",
    "email1[0]"
   ]
  },
  {
   "cell_type": "code",
   "execution_count": 8,
   "metadata": {},
   "outputs": [
    {
     "data": {
      "text/plain": [
       "'www.linkedin.com/in/maik-junior'"
      ]
     },
     "execution_count": 8,
     "metadata": {},
     "output_type": "execute_result"
    }
   ],
   "source": [
    "#== > Recuperando link perfil\n",
    "perfil1 = re.search(r'www\\.linkedin\\.com\\/in\\/[a-zA-Z0-9-]+', texto)\n",
    "perfil1[0]"
   ]
  },
  {
   "cell_type": "markdown",
   "metadata": {},
   "source": [
    "---"
   ]
  },
  {
   "cell_type": "markdown",
   "metadata": {},
   "source": [
    "### Exercício 3:\n",
    "Aplique as funções geradas nas questões 1 e 2 para fazer o mesmo com o PDF em anexo (perfil do professor) e crie um CSV com as informações extraídas (colunas: nome, telefone, email e perfil) utilizando o módulo `csv` nativo do Python. Obs.: ao final os padrões utilizados no Regex devem abarcar os conteúdos dos dois PDFs."
   ]
  },
  {
   "cell_type": "code",
   "execution_count": 9,
   "metadata": {},
   "outputs": [],
   "source": [
    "#==> lendo .pdf\n",
    "pdf2 = PdfReader('../file/ViniciusBS_Perfil_2024_08_12.pdf')"
   ]
  },
  {
   "cell_type": "code",
   "execution_count": 10,
   "metadata": {
    "scrolled": true
   },
   "outputs": [],
   "source": [
    "#==> Chamando funcao\n",
    "texto2 = le_pdf(pdf2)\n",
    "texto2 = ' '.join(texto2.split())"
   ]
  },
  {
   "cell_type": "code",
   "execution_count": 11,
   "metadata": {},
   "outputs": [],
   "source": [
    "#==> Recuperando informacoes\n",
    "nome1 = re.search(r'maik', texto)[0]\n",
    "telefone1 = re.search(r'9\\d{4}-?\\d{4}', texto)[0]\n",
    "email1 = re.search(r'\\s*[a-zA-Z0-9._%+-]+@[a-zA-Z0-9.-]+\\.\\s*[a-zA-Z]{2,}\\s*', texto)[0]\n",
    "perfil1 = re.search(r'www\\.linkedin\\.com\\/in\\/[a-zA-Z0-9-]+', texto)[0]\n",
    "\n",
    "nome2 = re.search(r'vinicius', texto2)[0]\n",
    "telefone2 = re.search(r'9\\d{4}-?\\d{4}', texto2)[0]\n",
    "email2 = re.search(r'\\s*[a-zA-Z0-9._%+-]+@[a-zA-Z0-9.-]+\\.\\s*[a-zA-Z]{2,}\\s*', texto2)[0]\n",
    "perfil2 = re.search(r'www\\.linkedin\\.com\\/in\\/[a-zA-Z0-9-]+', texto2)[0]"
   ]
  },
  {
   "cell_type": "code",
   "execution_count": 12,
   "metadata": {},
   "outputs": [],
   "source": [
    "#==> Dicionario\n",
    "dados = {'Nome': [nome1,nome2],'Telefone': [telefone1,telefone2],'Email': [email1,email2],'Linkedin': [perfil1,perfil2]}\n",
    "\n",
    "#==> Escrevendo .csv\n",
    "with open('../file/perfis.csv', mode='w', newline='', encoding='utf-8') as arquivo_csv:\n",
    "    escritor = csv.DictWriter(arquivo_csv, fieldnames=dados.keys()) \n",
    "    escritor.writeheader()\n",
    "    for linha in zip(*dados.values()):\n",
    "        escritor.writerow(dict(zip(dados.keys(), linha)))"
   ]
  },
  {
   "cell_type": "code",
   "execution_count": 65,
   "metadata": {},
   "outputs": [
    {
     "data": {
      "text/html": [
       "<div>\n",
       "<style scoped>\n",
       "    .dataframe tbody tr th:only-of-type {\n",
       "        vertical-align: middle;\n",
       "    }\n",
       "\n",
       "    .dataframe tbody tr th {\n",
       "        vertical-align: top;\n",
       "    }\n",
       "\n",
       "    .dataframe thead th {\n",
       "        text-align: right;\n",
       "    }\n",
       "</style>\n",
       "<table border=\"1\" class=\"dataframe\">\n",
       "  <thead>\n",
       "    <tr style=\"text-align: right;\">\n",
       "      <th></th>\n",
       "      <th>Nome</th>\n",
       "      <th>Telefone</th>\n",
       "      <th>Email</th>\n",
       "      <th>Linkedin</th>\n",
       "    </tr>\n",
       "  </thead>\n",
       "  <tbody>\n",
       "    <tr>\n",
       "      <th>0</th>\n",
       "      <td>maik</td>\n",
       "      <td>984606698</td>\n",
       "      <td>mikjuniorsantos@gmail.com</td>\n",
       "      <td>www.linkedin.com/in/maik-junior</td>\n",
       "    </tr>\n",
       "    <tr>\n",
       "      <th>1</th>\n",
       "      <td>vinicius</td>\n",
       "      <td>98128-0967</td>\n",
       "      <td>viniciusbranco.ufrgs@gmail. com</td>\n",
       "      <td>www.linkedin.com/in/vinicius-br-sc</td>\n",
       "    </tr>\n",
       "  </tbody>\n",
       "</table>\n",
       "</div>"
      ],
      "text/plain": [
       "       Nome    Telefone                              Email  \\\n",
       "0      maik   984606698         mikjuniorsantos@gmail.com    \n",
       "1  vinicius  98128-0967   viniciusbranco.ufrgs@gmail. com    \n",
       "\n",
       "                             Linkedin  \n",
       "0     www.linkedin.com/in/maik-junior  \n",
       "1  www.linkedin.com/in/vinicius-br-sc  "
      ]
     },
     "execution_count": 65,
     "metadata": {},
     "output_type": "execute_result"
    }
   ],
   "source": [
    "pd.read_csv('../file/perfis.csv')"
   ]
  },
  {
   "cell_type": "markdown",
   "metadata": {},
   "source": [
    "---"
   ]
  },
  {
   "cell_type": "markdown",
   "metadata": {},
   "source": [
    "## Parte 2: APIs"
   ]
  },
  {
   "cell_type": "markdown",
   "metadata": {},
   "source": [
    "### Exercício 4:\n",
    "Explore o “playground” da API do SimilarWeb encontrada no RapidAPI ([link](https://rapidapi.com/Glavier/api/similarweb12/playground/)) e inscreva-se no plano gratuito. Então, crie um código para obter os dados dos 10 primeiros sites listados em “top-websites”, salvando-os em um dataframe do Pandas e, por fim, em um arquivo CSV usando o próprio Pandas."
   ]
  },
  {
   "cell_type": "code",
   "execution_count": 13,
   "metadata": {},
   "outputs": [],
   "source": [
    "#==> Importando bibliotecas\n",
    "import requests\n",
    "import json\n",
    "import pandas as pd"
   ]
  },
  {
   "cell_type": "code",
   "execution_count": 14,
   "metadata": {},
   "outputs": [],
   "source": [
    "#==> Requisicao\n",
    "url = \"https://similarweb12.p.rapidapi.com/v3/top-websites/\"\n",
    "\n",
    "headers = {\n",
    "\t\"x-rapidapi-key\": \"471fd59fe1mshb443388ad14bfc4p1c1b01jsn763e6bb76f1d\",\n",
    "\t\"x-rapidapi-host\": \"similarweb12.p.rapidapi.com\"\n",
    "}\n",
    "\n",
    "resposta = requests.get(url, headers=headers)\n",
    "\n",
    "#==> Resultado dataframe\n",
    "df = pd.DataFrame(resposta.json()['sites'])"
   ]
  },
  {
   "cell_type": "code",
   "execution_count": 15,
   "metadata": {},
   "outputs": [],
   "source": [
    "#==> Criando .csv\n",
    "df[:10].to_csv('../file/top_sites.csv',index=False)"
   ]
  },
  {
   "cell_type": "code",
   "execution_count": 16,
   "metadata": {},
   "outputs": [
    {
     "data": {
      "text/html": [
       "<div>\n",
       "<style scoped>\n",
       "    .dataframe tbody tr th:only-of-type {\n",
       "        vertical-align: middle;\n",
       "    }\n",
       "\n",
       "    .dataframe tbody tr th {\n",
       "        vertical-align: top;\n",
       "    }\n",
       "\n",
       "    .dataframe thead th {\n",
       "        text-align: right;\n",
       "    }\n",
       "</style>\n",
       "<table border=\"1\" class=\"dataframe\">\n",
       "  <thead>\n",
       "    <tr style=\"text-align: right;\">\n",
       "      <th></th>\n",
       "      <th>domain</th>\n",
       "      <th>favicon</th>\n",
       "      <th>rankChange</th>\n",
       "      <th>categoryId</th>\n",
       "      <th>visitsAvgDurationFormatted</th>\n",
       "      <th>pagesPerVisit</th>\n",
       "      <th>bounceRate</th>\n",
       "      <th>isBlackListed</th>\n",
       "      <th>isNewRank</th>\n",
       "    </tr>\n",
       "  </thead>\n",
       "  <tbody>\n",
       "    <tr>\n",
       "      <th>0</th>\n",
       "      <td>google.com</td>\n",
       "      <td>https://site-images.similarcdn.com/image?url=g...</td>\n",
       "      <td>0</td>\n",
       "      <td>computers_electronics_and_technology/search_en...</td>\n",
       "      <td>00:10:45</td>\n",
       "      <td>8.146449</td>\n",
       "      <td>0.284144</td>\n",
       "      <td>False</td>\n",
       "      <td>False</td>\n",
       "    </tr>\n",
       "    <tr>\n",
       "      <th>1</th>\n",
       "      <td>youtube.com</td>\n",
       "      <td>https://site-images.similarcdn.com/image?url=y...</td>\n",
       "      <td>0</td>\n",
       "      <td>arts_and_entertainment/tv_movies_and_streaming</td>\n",
       "      <td>00:20:10</td>\n",
       "      <td>10.701296</td>\n",
       "      <td>0.238583</td>\n",
       "      <td>False</td>\n",
       "      <td>False</td>\n",
       "    </tr>\n",
       "    <tr>\n",
       "      <th>2</th>\n",
       "      <td>facebook.com</td>\n",
       "      <td>https://site-images.similarcdn.com/image?url=f...</td>\n",
       "      <td>0</td>\n",
       "      <td>computers_electronics_and_technology/social_ne...</td>\n",
       "      <td>00:11:03</td>\n",
       "      <td>11.576611</td>\n",
       "      <td>0.304578</td>\n",
       "      <td>False</td>\n",
       "      <td>False</td>\n",
       "    </tr>\n",
       "    <tr>\n",
       "      <th>3</th>\n",
       "      <td>instagram.com</td>\n",
       "      <td>https://site-images.similarcdn.com/image?url=i...</td>\n",
       "      <td>0</td>\n",
       "      <td>computers_electronics_and_technology/social_ne...</td>\n",
       "      <td>00:08:34</td>\n",
       "      <td>11.612183</td>\n",
       "      <td>0.350096</td>\n",
       "      <td>False</td>\n",
       "      <td>False</td>\n",
       "    </tr>\n",
       "    <tr>\n",
       "      <th>4</th>\n",
       "      <td>x.com</td>\n",
       "      <td>https://site-images.similarcdn.com/image?url=x...</td>\n",
       "      <td>0</td>\n",
       "      <td>computers_electronics_and_technology/social_ne...</td>\n",
       "      <td>00:11:53</td>\n",
       "      <td>12.281232</td>\n",
       "      <td>0.359107</td>\n",
       "      <td>False</td>\n",
       "      <td>False</td>\n",
       "    </tr>\n",
       "    <tr>\n",
       "      <th>5</th>\n",
       "      <td>whatsapp.com</td>\n",
       "      <td>https://site-images.similarcdn.com/image?url=w...</td>\n",
       "      <td>0</td>\n",
       "      <td>computers_electronics_and_technology/social_ne...</td>\n",
       "      <td>00:15:36</td>\n",
       "      <td>8.445437</td>\n",
       "      <td>0.480067</td>\n",
       "      <td>False</td>\n",
       "      <td>False</td>\n",
       "    </tr>\n",
       "    <tr>\n",
       "      <th>6</th>\n",
       "      <td>wikipedia.org</td>\n",
       "      <td>https://site-images.similarcdn.com/image?url=w...</td>\n",
       "      <td>0</td>\n",
       "      <td>reference_materials/dictionaries_and_encyclope...</td>\n",
       "      <td>00:03:21</td>\n",
       "      <td>3.131748</td>\n",
       "      <td>0.533002</td>\n",
       "      <td>False</td>\n",
       "      <td>False</td>\n",
       "    </tr>\n",
       "    <tr>\n",
       "      <th>7</th>\n",
       "      <td>yahoo.com</td>\n",
       "      <td>https://site-images.similarcdn.com/image?url=y...</td>\n",
       "      <td>0</td>\n",
       "      <td>news_and_media</td>\n",
       "      <td>00:07:58</td>\n",
       "      <td>5.160312</td>\n",
       "      <td>0.361576</td>\n",
       "      <td>False</td>\n",
       "      <td>False</td>\n",
       "    </tr>\n",
       "    <tr>\n",
       "      <th>8</th>\n",
       "      <td>reddit.com</td>\n",
       "      <td>https://site-images.similarcdn.com/image?url=r...</td>\n",
       "      <td>0</td>\n",
       "      <td>computers_electronics_and_technology/social_ne...</td>\n",
       "      <td>00:06:14</td>\n",
       "      <td>4.628785</td>\n",
       "      <td>0.418175</td>\n",
       "      <td>False</td>\n",
       "      <td>False</td>\n",
       "    </tr>\n",
       "    <tr>\n",
       "      <th>9</th>\n",
       "      <td>yahoo.co.jp</td>\n",
       "      <td>https://site-images.similarcdn.com/image?url=y...</td>\n",
       "      <td>0</td>\n",
       "      <td>news_and_media</td>\n",
       "      <td>00:09:21</td>\n",
       "      <td>7.609556</td>\n",
       "      <td>0.303995</td>\n",
       "      <td>False</td>\n",
       "      <td>False</td>\n",
       "    </tr>\n",
       "  </tbody>\n",
       "</table>\n",
       "</div>"
      ],
      "text/plain": [
       "          domain                                            favicon  \\\n",
       "0     google.com  https://site-images.similarcdn.com/image?url=g...   \n",
       "1    youtube.com  https://site-images.similarcdn.com/image?url=y...   \n",
       "2   facebook.com  https://site-images.similarcdn.com/image?url=f...   \n",
       "3  instagram.com  https://site-images.similarcdn.com/image?url=i...   \n",
       "4          x.com  https://site-images.similarcdn.com/image?url=x...   \n",
       "5   whatsapp.com  https://site-images.similarcdn.com/image?url=w...   \n",
       "6  wikipedia.org  https://site-images.similarcdn.com/image?url=w...   \n",
       "7      yahoo.com  https://site-images.similarcdn.com/image?url=y...   \n",
       "8     reddit.com  https://site-images.similarcdn.com/image?url=r...   \n",
       "9    yahoo.co.jp  https://site-images.similarcdn.com/image?url=y...   \n",
       "\n",
       "   rankChange                                         categoryId  \\\n",
       "0           0  computers_electronics_and_technology/search_en...   \n",
       "1           0     arts_and_entertainment/tv_movies_and_streaming   \n",
       "2           0  computers_electronics_and_technology/social_ne...   \n",
       "3           0  computers_electronics_and_technology/social_ne...   \n",
       "4           0  computers_electronics_and_technology/social_ne...   \n",
       "5           0  computers_electronics_and_technology/social_ne...   \n",
       "6           0  reference_materials/dictionaries_and_encyclope...   \n",
       "7           0                                     news_and_media   \n",
       "8           0  computers_electronics_and_technology/social_ne...   \n",
       "9           0                                     news_and_media   \n",
       "\n",
       "  visitsAvgDurationFormatted  pagesPerVisit  bounceRate  isBlackListed  \\\n",
       "0                   00:10:45       8.146449    0.284144          False   \n",
       "1                   00:20:10      10.701296    0.238583          False   \n",
       "2                   00:11:03      11.576611    0.304578          False   \n",
       "3                   00:08:34      11.612183    0.350096          False   \n",
       "4                   00:11:53      12.281232    0.359107          False   \n",
       "5                   00:15:36       8.445437    0.480067          False   \n",
       "6                   00:03:21       3.131748    0.533002          False   \n",
       "7                   00:07:58       5.160312    0.361576          False   \n",
       "8                   00:06:14       4.628785    0.418175          False   \n",
       "9                   00:09:21       7.609556    0.303995          False   \n",
       "\n",
       "   isNewRank  \n",
       "0      False  \n",
       "1      False  \n",
       "2      False  \n",
       "3      False  \n",
       "4      False  \n",
       "5      False  \n",
       "6      False  \n",
       "7      False  \n",
       "8      False  \n",
       "9      False  "
      ]
     },
     "execution_count": 16,
     "metadata": {},
     "output_type": "execute_result"
    }
   ],
   "source": [
    "#==> Lendo .csv\n",
    "pd.read_csv('../file/top_sites.csv')"
   ]
  },
  {
   "cell_type": "markdown",
   "metadata": {},
   "source": [
    "---"
   ]
  },
  {
   "cell_type": "markdown",
   "metadata": {},
   "source": [
    "## Parte 3: XPath"
   ]
  },
  {
   "cell_type": "markdown",
   "metadata": {},
   "source": [
    "### Exercício 5:\n",
    "Utilize o arquivo XML em anexo e a biblioteca `lxml` com caminhos relativos de XPath para:\n",
    "- Selecionar os nomes de todos *estudantes* que estejam no 2º ano ou acima dele;\n",
    "- Selecionar o nome do *professor* de Estruturas de Dados (course: \"Data Structures\");\n",
    "- Selecionar os títulos de todos os *cursos* ofertados pelo departamento de Ciência da Computação (department: Computer Science);\n",
    "- Selecionar os nomes de todos os *departamentos* que sejam pertencentes à Escola de Engenharia (college: Engineering)."
   ]
  },
  {
   "cell_type": "code",
   "execution_count": 17,
   "metadata": {},
   "outputs": [],
   "source": [
    "#==> Importando biblioteca\n",
    "from lxml import etree"
   ]
  },
  {
   "cell_type": "code",
   "execution_count": 18,
   "metadata": {},
   "outputs": [],
   "source": [
    "#==> Lendo .xml\n",
    "root = etree.parse('../file/AT.xml')"
   ]
  },
  {
   "cell_type": "code",
   "execution_count": 19,
   "metadata": {},
   "outputs": [],
   "source": [
    "#==> 1"
   ]
  },
  {
   "cell_type": "code",
   "execution_count": 20,
   "metadata": {},
   "outputs": [
    {
     "data": {
      "text/plain": [
       "['Charlie', 'David', 'Jack']"
      ]
     },
     "execution_count": 20,
     "metadata": {},
     "output_type": "execute_result"
    }
   ],
   "source": [
    "root.xpath(\"//student[@year > 2]/text()\")"
   ]
  },
  {
   "cell_type": "code",
   "execution_count": 21,
   "metadata": {},
   "outputs": [],
   "source": [
    "#==> 2"
   ]
  },
  {
   "cell_type": "code",
   "execution_count": 22,
   "metadata": {},
   "outputs": [
    {
     "data": {
      "text/plain": [
       "['Dr. Emily Clark']"
      ]
     },
     "execution_count": 22,
     "metadata": {},
     "output_type": "execute_result"
    }
   ],
   "source": [
    "# root.xpath(\"//title/text()\")\n",
    "\n",
    "# root.xpath(\"//professor/text()\")\n",
    "\n",
    "root.xpath(\"//course[title='Data Structures']/professor/text()\")"
   ]
  },
  {
   "cell_type": "code",
   "execution_count": 23,
   "metadata": {},
   "outputs": [],
   "source": [
    "#==> 3"
   ]
  },
  {
   "cell_type": "code",
   "execution_count": 24,
   "metadata": {},
   "outputs": [
    {
     "data": {
      "text/plain": [
       "['Introduction to Computer Science', 'Data Structures']"
      ]
     },
     "execution_count": 24,
     "metadata": {},
     "output_type": "execute_result"
    }
   ],
   "source": [
    "root.xpath(\"//department[@name='Computer Science']//title/text()\")"
   ]
  },
  {
   "cell_type": "code",
   "execution_count": 25,
   "metadata": {},
   "outputs": [
    {
     "data": {
      "text/plain": [
       "['Computer Science', 'Mechanical Engineering']"
      ]
     },
     "execution_count": 25,
     "metadata": {},
     "output_type": "execute_result"
    }
   ],
   "source": [
    "#==> 4\n",
    "root.xpath(\"//college[@name='Engineering']/department/@name\")"
   ]
  },
  {
   "cell_type": "markdown",
   "metadata": {},
   "source": [
    "---"
   ]
  },
  {
   "cell_type": "markdown",
   "metadata": {},
   "source": [
    "## Parte 4: CSS"
   ]
  },
  {
   "cell_type": "markdown",
   "metadata": {},
   "source": [
    "### Exercício 6:\n",
    "Utilize o arquivo XML em anexo e a biblioteca `lxml` com seletores de CSS para:\n",
    "- Selecionar os títulos de todos os cursos cujos professores possuem estabilidade (tenure);\n",
    "- Selecionar os títulos de todos os cursos que possuem horário de início pela manhã (AM). **Dica:** cuidado com nomes antigos de pseudo-classes; caso algum não funcione, tente o nome antigo."
   ]
  },
  {
   "cell_type": "code",
   "execution_count": 26,
   "metadata": {},
   "outputs": [],
   "source": [
    "#==> Importando biblioteca\n",
    "from lxml import html\n",
    "from lxml import etree\n",
    "from lxml.cssselect import CSSSelector as sel"
   ]
  },
  {
   "cell_type": "code",
   "execution_count": 27,
   "metadata": {},
   "outputs": [],
   "source": [
    "#==> 1"
   ]
  },
  {
   "cell_type": "code",
   "execution_count": 28,
   "metadata": {},
   "outputs": [
    {
     "data": {
      "text/plain": [
       "['Dr. Jane Doe', 'Dr. John Lee', 'Dr. Anna White']"
      ]
     },
     "execution_count": 28,
     "metadata": {},
     "output_type": "execute_result"
    }
   ],
   "source": [
    "#==> Lendo .xml\n",
    "tree = etree.parse('../file/AT.xml')\n",
    "\n",
    "#==> Filtro\n",
    "selecao = sel('professor[tenure=\"true\"]')\n",
    "\n",
    "#==> Recuperando nomes\n",
    "[v.text for v in selecao(tree)]"
   ]
  },
  {
   "cell_type": "code",
   "execution_count": 29,
   "metadata": {},
   "outputs": [],
   "source": [
    "#==> 2"
   ]
  },
  {
   "cell_type": "code",
   "execution_count": 30,
   "metadata": {},
   "outputs": [],
   "source": [
    "#==> Lendo .xml\n",
    "tree = etree.parse('../file/AT.xml')"
   ]
  },
  {
   "cell_type": "code",
   "execution_count": 31,
   "metadata": {},
   "outputs": [],
   "source": [
    "#==> Selecionando cursos\n",
    "selector = sel('course')"
   ]
  },
  {
   "cell_type": "code",
   "execution_count": 32,
   "metadata": {},
   "outputs": [],
   "source": [
    "#==> Seletor\n",
    "cursos = selector(tree)"
   ]
  },
  {
   "cell_type": "code",
   "execution_count": 33,
   "metadata": {},
   "outputs": [
    {
     "data": {
      "text/plain": [
       "['Introduction to Computer Science',\n",
       " 'Thermodynamics',\n",
       " 'World History',\n",
       " 'Ethics']"
      ]
     },
     "execution_count": 33,
     "metadata": {},
     "output_type": "execute_result"
    }
   ],
   "source": [
    "#==> Recuperando cursos\n",
    "[curso.cssselect('title')[0].text for curso in cursos if curso.cssselect('schedule time') and \"AM\" in curso.cssselect('schedule time')[0].text]"
   ]
  },
  {
   "cell_type": "markdown",
   "metadata": {},
   "source": [
    "---"
   ]
  },
  {
   "cell_type": "markdown",
   "metadata": {},
   "source": [
    "## Parte 5: WebCrawling"
   ]
  },
  {
   "cell_type": "markdown",
   "metadata": {},
   "source": [
    "### Exercício 7:\n",
    "Examine um site de sua escolha na lista de sites fornecida em anexo e descubra o padrão de URL para paginação que ele aceita. Então, utilize-o para obter uma lista de links de notícias requisitando as 2 primeiras páginas e raspando os links de cada uma através de um único seletor de CSS aplicado via `BeautifulSoup`."
   ]
  },
  {
   "cell_type": "code",
   "execution_count": 34,
   "metadata": {},
   "outputs": [],
   "source": [
    "#==> Importando biblioteca\n",
    "import requests\n",
    "import random\n",
    "import time\n",
    "from bs4 import BeautifulSoup as bs"
   ]
  },
  {
   "cell_type": "code",
   "execution_count": 35,
   "metadata": {},
   "outputs": [],
   "source": [
    "header = {'User-Agent':'Mozilla/5.0 (Windows NT 10.0; Win64; x64) AppleWebKit/537.36 (KHTML, like Gecko) Chrome/128.0.0.0 Safari/537.36'}\n",
    "\n",
    "#==> Recuperando dados unicos\n",
    "def uniques(seq: list | tuple) -> list | tuple:\n",
    "    out = []\n",
    "    for x in seq:\n",
    "        if x not in out:\n",
    "            out.append(x)\n",
    "    return out if isinstance(seq, list) else tuple(out)\n",
    "\n",
    "#==> Fazendo requisicao\n",
    "def requests_page_interval(url: str | bytes) -> str:\n",
    "    time.sleep(random.randint(1,2))\n",
    "    resposta = requests.get(url, headers=header, timeout=30)\n",
    "    return resposta.text\n",
    "\n",
    "dominio = 'https://diariodoestadomt.com.br/'\n",
    "\n",
    "#==> Recuperando links\n",
    "def web_crawler(url_pattern: str, selector: str, range_config: tuple) -> list:\n",
    "    links = []\n",
    "    for num in range(*range_config):\n",
    "        pagina = requests_page_interval(url_pattern.format(num))\n",
    "        soup = bs(pagina, 'lxml')\n",
    "        urls = [tag.get('href') for tag in soup.select(selector)]\n",
    "        urls_completas = [link if link.startswith('http') else dominio + link for link in urls]\n",
    "        links.extend(urls_completas)\n",
    "    return links"
   ]
  },
  {
   "cell_type": "code",
   "execution_count": 36,
   "metadata": {},
   "outputs": [],
   "source": [
    "links = web_crawler('https://diariodoestadomt.com.br/noticias/{}', 'a.news', (0, 2))"
   ]
  },
  {
   "cell_type": "code",
   "execution_count": 37,
   "metadata": {},
   "outputs": [
    {
     "data": {
      "text/plain": [
       "['https://diariodoestadomt.com.br/noticias/setembrosedespedecomoitavaondadecalornobrasil/100331064',\n",
       " 'https://diariodoestadomt.com.br/noticias/motivosquelevaramoflamengoademitirtite/100319528',\n",
       " 'https://diariodoestadomt.com.br/noticias/novarotaregistraumatendimentoacada45minutos/100256080',\n",
       " 'https://diariodoestadomt.com.br/noticias/teco2024celebra10anoscomocentrodedebatesdaind-ostriadoetanoldecereais/100238776',\n",
       " 'https://diariodoestadomt.com.br/noticias/justi-caeleitoraltrazint-orpretedelibrasnaurnavisandoacessibilidade/100221472',\n",
       " 'https://diariodoestadomt.com.br/noticias/ia-ofocodeoitoleisaprovadasnacalif-arnia/100267616',\n",
       " 'https://diariodoestadomt.com.br/noticias/querosenedeavia-c-eoter-aredu-c-eode91apartirde1odeoutubro/100250312',\n",
       " 'https://diariodoestadomt.com.br/noticias/caixadisponibilizaaosestudantescontrata-c-eodigitaldofiesporapp/100233008',\n",
       " 'https://diariodoestadomt.com.br/noticias/appaiqfomechegaasinop/100215704',\n",
       " 'https://diariodoestadomt.com.br/noticias/45dasdoen-cascard-aacaspodemestarrelacionadas-asa-odebucal/100261848',\n",
       " 'https://diariodoestadomt.com.br/noticias/marllonretornanazagadocuiab-aemconfrontocomplicadocontraofortaleza/100244544',\n",
       " 'https://diariodoestadomt.com.br/noticias/getapabreasinscri-c-iesparaoconcursodeprodutividadedomilho/100227240']"
      ]
     },
     "execution_count": 37,
     "metadata": {},
     "output_type": "execute_result"
    }
   ],
   "source": [
    "#==> Links das paginas\n",
    "links"
   ]
  },
  {
   "cell_type": "markdown",
   "metadata": {},
   "source": [
    "---"
   ]
  },
  {
   "cell_type": "markdown",
   "metadata": {},
   "source": [
    "## Parte 6: WebScraping"
   ]
  },
  {
   "cell_type": "markdown",
   "metadata": {},
   "source": [
    "### Exercício 8:\n",
    "Faça um loop para os 3 primeiros links da lista obtida na questão anterior requisitando o HTML de cada página com a biblioteca que preferir (`urllib`, `requests`, etc.) e aplicando funções baseadas em `BeautifulSoup` para capturar e por fim salvar em um mesmo arquivo JSON, junto à URL de cada notícia e ao datetime do momento da requisição de cada página:\n",
    "- O objeto datetime (timezone-aware) da data e hora da publicação da notícia;\n",
    "- O título da notícia;\n",
    "- O corpo do texto da notícia;\n",
    "- O subtítulo da notícia (se houver);\n",
    "- O autor ou autores da notícia (se houver)."
   ]
  },
  {
   "cell_type": "code",
   "execution_count": 38,
   "metadata": {},
   "outputs": [],
   "source": [
    "#==> Importando bibliotecas\n",
    "import requests\n",
    "from bs4 import BeautifulSoup as bs\n",
    "import random\n",
    "import time\n",
    "import json"
   ]
  },
  {
   "cell_type": "code",
   "execution_count": 39,
   "metadata": {},
   "outputs": [],
   "source": [
    "#==> Info cliente\n",
    "headers = {'User-Agent':'Mozilla/5.0 (Windows NT 10.0; Win64; x64) AppleWebKit/537.36 (KHTML, like Gecko) Chrome/128.0.0.0 Safari/537.36'}"
   ]
  },
  {
   "cell_type": "code",
   "execution_count": 40,
   "metadata": {},
   "outputs": [],
   "source": [
    "#==> Lista\n",
    "webscraping = []\n",
    "\n",
    "#==> Iterando em links para recuperar dados\n",
    "for i, v in enumerate(links[1:4]):\n",
    "    resposta = requests.get(v, headers=headers, timeout=120)\n",
    "    time_requisicao = resposta.headers.get('Date')\n",
    "\n",
    "    #==> Gravando resposta\n",
    "    with open(f'../file/{v[-9:]}.html', 'w', encoding='utf-8') as f:\n",
    "        f.write(resposta.text)\n",
    "    \n",
    "    #==> Lendo .html\n",
    "    with open(f'../file/{v[-9:]}.html', 'r', encoding='utf-8') as r: \n",
    "        noticia = r.read()\n",
    "\n",
    "    #==> Rcuperando .html\n",
    "    soup = bs(noticia, 'html.parser')\n",
    "\n",
    "    noticias = {\n",
    "        'url': v,\n",
    "        'requisicao_datetime': time_requisicao,\n",
    "        'timezone-aware': soup.find('h2').find_next_sibling('p').find_next_sibling('p').text.strip(),\n",
    "        'noticia_titulo': soup.find('title').text.strip(),\n",
    "        'noticia_corpo': ''.join([p.get_text().strip().replace('\\n', '') for p in soup.find_all('p')][4:-10]),\n",
    "        'noticia_subtitulo': 'NA',\n",
    "        'noticia_autor': ''.join([p.get_text().strip().replace('\\n', '') for p in soup.find_all('p')][-10]),\n",
    "    }\n",
    "\n",
    "    #==> Adicionando a lista\n",
    "    webscraping.append(noticias)"
   ]
  },
  {
   "cell_type": "code",
   "execution_count": 41,
   "metadata": {},
   "outputs": [],
   "source": [
    "#==> Criando .json\n",
    "with open('../file/noticias.json', 'w', encoding='utf-8') as arquivo:\n",
    "    json.dump(webscraping, arquivo, ensure_ascii=False, indent=4)"
   ]
  },
  {
   "cell_type": "code",
   "execution_count": 42,
   "metadata": {},
   "outputs": [],
   "source": [
    "#==> Criando .json\n",
    "with open('../file/noticias.json', 'r', encoding='utf-8') as r:\n",
    "    noticias_json = json.load(r)"
   ]
  },
  {
   "cell_type": "code",
   "execution_count": 43,
   "metadata": {},
   "outputs": [
    {
     "data": {
      "text/plain": [
       "[{'url': 'https://diariodoestadomt.com.br/noticias/motivosquelevaramoflamengoademitirtite/100319528',\n",
       "  'requisicao_datetime': 'Mon, 30 Sep 2024 23:31:59 GMT',\n",
       "  'timezone-aware': '30 de Setembro de 2024  as 15h 39min',\n",
       "  'noticia_titulo': 'Motivos que levaram o Flamengo a demitir Tite | DiÃ¡rio do Estado',\n",
       "  'noticia_corpo': 'A pressão sobre Tite agitou os bastidores do Flamengo nos últimos dias, principalmente depois da eliminação na Libertadores. A demissão do treinador foi anunciada dois dias antes do início da semifinal da Copa do Brasil contra o Corinthians. Por que a diretoria decidiu mudar o comando da equipe antes mesmo do mata-mata?Nem mesmo o reencontro do time com a vitória depois de quatro jogos, ao derrotar o Athletico-PR por 1 a 0 no domingo, no Maracanã, aliviou a pressão interna ou mudou a avaliação do trabalho, considerado estagnado nos corredores da Gávea e do Ninho do Urubu.Tite chegou em outubro do ano passado com enorme prestígio. Na conquista invicta do Carioca, com a melhor defesa da história da competição sofrendo apenas um gol, o time viveu momento de regularidade. Durante a Copa América, o técnico também ganhou pontos ao sobreviver com muitos desfalques, mantendo a equipe competitiva. Porém, a queda de produção a partir de agosto ligou o sinal de alerta, embora a diretoria entendesse que a quantidade de desfalques tinha grande influência no processo.Após a queda na Libertadores, com a semifinal da Copa do Brasil contra o Corinthians batendo à porta, a diretoria decidiu tratar o jogo contra o Athletico-PR como \"última chance\" para o time de Tite reencontrar o bom futebol, o que não ocorreu. A vitória só saiu com um gol de Gerson aos 44 minutos do segundo tempo. A essa altura, o caminho já não tinha mais volta.Ao fim das partidas, Tite costuma demorar para dar entrevista. No domingo, a rápida chegada do treinador à sala de coletivas do Maracanã chamou atenção. Era um sinal. Indicava que o contato entre jogadores e comissão técnica fora breve, com a tradicional oração e a convocação para o treino do dia seguinte. Mas a falta de sintonia e o distanciamento incomodaram os dirigentes rubro-negros. A cena foi encarada como mais uma razão para promover a mudança e tentar chacoalhar o ambiente na reta final de temporada.Depois do jogo, o presidente Rodolfo Landim e o vice de futebol Marcos Braz conversaram algumas vezes entre si. Já no início da manhã desta segunda-feira, um novo contato definiu pela mudança. O passo seguinte foi informar a decisão ao representante do treinador, Gilmar Veloz. Depois que Tite foi comunicado, a direção rubro-negra publicou a nota oficial às 7h30.MULTA BAIXAEm 2023, mesmo com o desempenho ruim do time, a diretoria decidiu manter Jorge Sampaoli para a final da Copa do Brasil. Na ocasião, o Flamengo perdeu para o São Paulo e terminou o ano zerado.Desta vez, Landim e seus pares apostam num \"fato novo\" para tentar evitar que o cenário do fim do ano passado se repita. A eleição presidencial do clube, marcada para 9 de dezembro, também foi pano de fundo da decisão de demitir um treinador com baixíssima popularidade diante da torcida, o que ficou evidenciado pela quantidade de xingamentos a ele no Maracanã no domingo.Outra diferença é que a multa desta vez é baixa. O Flamengo precisa pagar 50% do restante do contrato, mas Tite tinha só mais três meses de vínculo e receberá cerca de R$ 3 milhões.FILIPE LUÍSA possibilidade de recorrer a Filipe Luís, técnico do sub-20, vinha sendo amadurecida nos bastidores. E ganhou força após a eliminação na Libertadores na quinta-feira. A relação de confiança entre o ex-lateral e Marcos Braz desde a época em que o dirigente foi à Espanha contratar o jogador em 2019, ajudou no processo de convencimento, e a conversa entre eles foi rápida.Apesar de ter sido anunciado como interino, a ideia do Flamengo é assinar um contrato com Filipe Luís até o fim de 2025, mesmo com a entrada de uma nova diretoria no clube em janeiro após a eleição.A pressão sobre Tite agitou os bastidores do Flamengo nos últimos dias, principalmente depois da eliminação na Libertadores. A demissão do treinador foi anunciada dois dias antes do início da semifinal da Copa do Brasil contra o Corinthians. Por que a diretoria decidiu mudar o comando da equipe antes mesmo do mata-mata?Nem mesmo o reencontro do time com a vitória depois de quatro jogos, ao derrotar o Athletico-PR por 1 a 0 no domingo, no Maracanã, aliviou a pressão interna ou mudou a avaliação do trabalho, considerado estagnado nos corredores da Gávea e do Ninho do Urubu.Tite chegou em outubro do ano passado com enorme prestígio. Na conquista invicta do Carioca, com a melhor defesa da história da competição sofrendo apenas um gol, o time viveu momento de regularidade. Durante a Copa América, o técnico também ganhou pontos ao sobreviver com muitos desfalques, mantendo a equipe competitiva. Porém, a queda de produção a partir de agosto ligou o sinal de alerta, embora a diretoria entendesse que a quantidade de desfalques tinha grande influência no processo.Após a queda na Libertadores, com a semifinal da Copa do Brasil contra o Corinthians batendo à porta, a diretoria decidiu tratar o jogo contra o Athletico-PR como \"última chance\" para o time de Tite reencontrar o bom futebol, o que não ocorreu. A vitória só saiu com um gol de Gerson aos 44 minutos do segundo tempo. A essa altura, o caminho já não tinha mais volta.Ao fim das partidas, Tite costuma demorar para dar entrevista. No domingo, a rápida chegada do treinador à sala de coletivas do Maracanã chamou atenção. Era um sinal. Indicava que o contato entre jogadores e comissão técnica fora breve, com a tradicional oração e a convocação para o treino do dia seguinte. Mas a falta de sintonia e o distanciamento incomodaram os dirigentes rubro-negros. A cena foi encarada como mais uma razão para promover a mudança e tentar chacoalhar o ambiente na reta final de temporada.Depois do jogo, o presidente Rodolfo Landim e o vice de futebol Marcos Braz conversaram algumas vezes entre si. Já no início da manhã desta segunda-feira, um novo contato definiu pela mudança. O passo seguinte foi informar a decisão ao representante do treinador, Gilmar Veloz. Depois que Tite foi comunicado, a direção rubro-negra publicou a nota oficial às 7h30.MULTA BAIXAEm 2023, mesmo com o desempenho ruim do time, a diretoria decidiu manter Jorge Sampaoli para a final da Copa do Brasil. Na ocasião, o Flamengo perdeu para o São Paulo e terminou o ano zerado.Desta vez, Landim e seus pares apostam num \"fato novo\" para tentar evitar que o cenário do fim do ano passado se repita. A eleição presidencial do clube, marcada para 9 de dezembro, também foi pano de fundo da decisão de demitir um treinador com baixíssima popularidade diante da torcida, o que ficou evidenciado pela quantidade de xingamentos a ele no Maracanã no domingo.Outra diferença é que a multa desta vez é baixa. O Flamengo precisa pagar 50% do restante do contrato, mas Tite tinha só mais três meses de vínculo e receberá cerca de R$ 3 milhões.FILIPE LUÍSA possibilidade de recorrer a Filipe Luís, técnico do sub-20, vinha sendo amadurecida nos bastidores. E ganhou força após a eliminação na Libertadores na quinta-feira. A relação de confiança entre o ex-lateral e Marcos Braz desde a época em que o dirigente foi à Espanha contratar o jogador em 2019, ajudou no processo de convencimento, e a conversa entre eles foi rápida.Apesar de ter sido anunciado como interino, a ideia do Flamengo é assinar um contrato com Filipe Luís até o fim de 2025, mesmo com a entrada de uma nova diretoria no clube em janeiro após a eleição.',\n",
       "  'noticia_subtitulo': 'NA',\n",
       "  'noticia_autor': 'Fonte: DA REPORTAGEM'},\n",
       " {'url': 'https://diariodoestadomt.com.br/noticias/novarotaregistraumatendimentoacada45minutos/100256080',\n",
       "  'requisicao_datetime': 'Mon, 30 Sep 2024 23:32:00 GMT',\n",
       "  'timezone-aware': '30 de Setembro de 2024  as 09h 52min',\n",
       "  'noticia_titulo': 'Nova Rota registra um atendimento a cada 4,5 minutos | DiÃ¡rio do Estado',\n",
       "  'noticia_corpo': 'Realizando um atendimento a cada 4,5 minutos na BR-163/MT, em média, a equipe operacional da Nova Rota do Oeste completa 10 anos de atuação na rodovia e a Concessionária aposta na modernização dos equipamentos e fortalecimento do uso da tecnologia para dar celeridade nas ações e intervenções.Neste ano, a empresa já investiu cerca de R$ 135 milhões na renovação da frota, instalação de fibra ótica e aquisição de 500 câmeras de monitoramento, iniciativas que promoverão a cobertura total dos 851 km sob concessão, de Itiquira a Sinop.O diretor de Operação e Tecnologia da Nova Rota, Wilson Ferreira, pontua que os atendimentos prestados ao longo da rodovia refletem em vidas salvas, tráfego organizado, ampliação da segurança viária e, agora, a Concessionária amplia o investimento em tecnologia para melhorar ainda mais esse serviço que sempre foi muito elogiado pelos usuários da BR-163. Na última pesquisa da Ouvidoria com os usuários atendidos pela Nova Rota, o serviço leva nota 9,5.“No decorrer desses 10 anos, nunca renunciamos à qualidade no atendimento ao motorista. O investimento em pessoas para ter uma equipe bem treinada sempre foi um valor nosso. E agora que temos reestruturação da empresa estamos ampliando os investimentos para a modernização da frota, dos equipamentos e trazendo novas tecnologias para o dia a dia, o que levará ao motorista um atendimento cada vez melhor”, explica o diretor.A instalação de fibra ótica em todo o trecho sob concessão dará suporte aos equipamentos e sistemas da Concessionária, como a instalação das câmeras de monitoramento que vão permitir uma visão de 100% do trecho, melhor funcionamento dos equipamentos de comunicação entre as bases e rádios e o funcionamento tecnológico como um todo.O investimento em modernização está previsto no Termo de Ajustamento de Conduta (TAC) firmado entre a Concessionária e a Agência Nacional de transportes Terrestres (ANTT). O documento norteia todas as ações implementadas na BR-163/MT pela Nova Rota do Oeste e Governo de MT desde maio de 2023, quando assumiu a gestão da empresa e investiu R$ 1,6 bilhão para retomada das obras.Com relação à frota, em 2024 a empresa fez a substituição de cinco caminhões-pipa (já prevendo a importância para o combate aos incêndios e apoio ao Corpo de Bombeiros) e seis guinchos (sendo cinco leves e um pesado para remoção de veículos de carga).Realizando um atendimento a cada 4,5 minutos na BR-163/MT, em média, a equipe operacional da Nova Rota do Oeste completa 10 anos de atuação na rodovia e a Concessionária aposta na modernização dos equipamentos e fortalecimento do uso da tecnologia para dar celeridade nas ações e intervenções.Neste ano, a empresa já investiu cerca de R$ 135 milhões na renovação da frota, instalação de fibra ótica e aquisição de 500 câmeras de monitoramento, iniciativas que promoverão a cobertura total dos 851 km sob concessão, de Itiquira a Sinop.O diretor de Operação e Tecnologia da Nova Rota, Wilson Ferreira, pontua que os atendimentos prestados ao longo da rodovia refletem em vidas salvas, tráfego organizado, ampliação da segurança viária e, agora, a Concessionária amplia o investimento em tecnologia para melhorar ainda mais esse serviço que sempre foi muito elogiado pelos usuários da BR-163. Na última pesquisa da Ouvidoria com os usuários atendidos pela Nova Rota, o serviço leva nota 9,5.“No decorrer desses 10 anos, nunca renunciamos à qualidade no atendimento ao motorista. O investimento em pessoas para ter uma equipe bem treinada sempre foi um valor nosso. E agora que temos reestruturação da empresa estamos ampliando os investimentos para a modernização da frota, dos equipamentos e trazendo novas tecnologias para o dia a dia, o que levará ao motorista um atendimento cada vez melhor”, explica o diretor.A instalação de fibra ótica em todo o trecho sob concessão dará suporte aos equipamentos e sistemas da Concessionária, como a instalação das câmeras de monitoramento que vão permitir uma visão de 100% do trecho, melhor funcionamento dos equipamentos de comunicação entre as bases e rádios e o funcionamento tecnológico como um todo.O investimento em modernização está previsto no Termo de Ajustamento de Conduta (TAC) firmado entre a Concessionária e a Agência Nacional de transportes Terrestres (ANTT). O documento norteia todas as ações implementadas na BR-163/MT pela Nova Rota do Oeste e Governo de MT desde maio de 2023, quando assumiu a gestão da empresa e investiu R$ 1,6 bilhão para retomada das obras.Com relação à frota, em 2024 a empresa fez a substituição de cinco caminhões-pipa (já prevendo a importância para o combate aos incêndios e apoio ao Corpo de Bombeiros) e seis guinchos (sendo cinco leves e um pesado para remoção de veículos de carga).',\n",
       "  'noticia_subtitulo': 'NA',\n",
       "  'noticia_autor': 'Fonte: ASSESSORIA DE IMPRENSA'},\n",
       " {'url': 'https://diariodoestadomt.com.br/noticias/teco2024celebra10anoscomocentrodedebatesdaind-ostriadoetanoldecereais/100238776',\n",
       "  'requisicao_datetime': 'Mon, 30 Sep 2024 23:32:00 GMT',\n",
       "  'timezone-aware': '30 de Setembro de 2024  as 07h 49min',\n",
       "  'noticia_titulo': 'TECO 2024 celebra 10 anos como centro de debates da indÃºstria do etanol de cereais | DiÃ¡rio do Estado',\n",
       "  'noticia_corpo': 'A produção de etanol de milho deve crescer 20% nesta safra (2024/25), chegando a 7,6 milhões de m³. A estimativa é da União Nacional do Etanol de Milho (UNEM). Com 22 plantas em operação, e em franca expansão com o anúncio de novos players, o setor intensifica a busca por soluções dentro e fora da planta para assegurar a produtividade e a rentabilidade da operação em um mercado que tem se tornado mais complexo.Este e outros assuntos serão debatidos na 10ª edição do TECO Latin America, evento voltado exclusivamente para a cadeia produtiva de etanol de cereais que acontece terça (1º) e quarta (2 de outubro) em São Paulo.Promovido pela Novonesis, líder mundial em biossoluções e principal fornecedora mundial de biotecnologia para a indústria de etanol de cereais, o evento contará com os mais importantes representantes desses setores, incluindo produtores, investidores, associações e provedores de tecnologia.Há dez anos a Novonesis apostou em um encontro da indústria de etanol de cereais que proporcionasse fortalecimento e amadurecimento do setor. Atualmente, o TECO reúne toda a cadeia em um momento de troca de experiências que qualifica a tomada de decisões estratégicas do setor. “Nosso objetivo é reunir importantes players e disponibilizar análises de alta qualidade sobre o cenário atual desse setor em constante evolução, estimulando, assim, um debate amplo e o crescimento da indústria”, afirma Fabrício Leal Rocha, diretor do negócio de bioenergia da Novonesis na América Latina, que destaca que as inscrições para o evento já foram encerradas.Fabrício Leal Rocha completa que a Novonesis se orgulha de cada uma das dez edições deste evento, que traduz a confiança no crescimento e no fortalecimento desta indústria desde o seu nascimento.“Investimos no setor antes mesmo dele dar pistas do gigante que se tornaria. Incentivamos a produção local para garantir robustez no abastecimento da indústria, em laboratórios qualificados, e em uma dedicada equipe de campo para apoiar o nascimento e desenvolvimento de cada biorrefinaria na região”, salienta o diretor de negócios da companhia.PROGRAMAÇÃONo primeiro dia, serão discutidos o cenário macroeconômico e as tendências da indústria. Isso inclui as oportunidades e desafios para o setor, como a comercialização de etanol, a conversão do agronegócio em agroindústria e o ambiente de negócios do DDGS, um coproduto da produção de etanol de milho. Além disso, serão exploradas inovações no futuro dos biocombustíveis, como o e-Metanol, o etanol marítimo e novos mercados.O segundo dia abordará a rentabilidade da operação e explorará estratégias para o crescimento da indústria, financiamento e modelos de negócio. O evento encerrará com painel dedicado à inovação, incluindo a aplicação de inteligência artificial no processo, eficiência energética e a operação de plantas multicereais.A produção de etanol de milho deve crescer 20% nesta safra (2024/25), chegando a 7,6 milhões de m³. A estimativa é da União Nacional do Etanol de Milho (UNEM). Com 22 plantas em operação, e em franca expansão com o anúncio de novos players, o setor intensifica a busca por soluções dentro e fora da planta para assegurar a produtividade e a rentabilidade da operação em um mercado que tem se tornado mais complexo.Este e outros assuntos serão debatidos na 10ª edição do TECO Latin America, evento voltado exclusivamente para a cadeia produtiva de etanol de cereais que acontece terça (1º) e quarta (2 de outubro) em São Paulo.Promovido pela Novonesis, líder mundial em biossoluções e principal fornecedora mundial de biotecnologia para a indústria de etanol de cereais, o evento contará com os mais importantes representantes desses setores, incluindo produtores, investidores, associações e provedores de tecnologia.Há dez anos a Novonesis apostou em um encontro da indústria de etanol de cereais que proporcionasse fortalecimento e amadurecimento do setor. Atualmente, o TECO reúne toda a cadeia em um momento de troca de experiências que qualifica a tomada de decisões estratégicas do setor. “Nosso objetivo é reunir importantes players e disponibilizar análises de alta qualidade sobre o cenário atual desse setor em constante evolução, estimulando, assim, um debate amplo e o crescimento da indústria”, afirma Fabrício Leal Rocha, diretor do negócio de bioenergia da Novonesis na América Latina, que destaca que as inscrições para o evento já foram encerradas.Fabrício Leal Rocha completa que a Novonesis se orgulha de cada uma das dez edições deste evento, que traduz a confiança no crescimento e no fortalecimento desta indústria desde o seu nascimento.“Investimos no setor antes mesmo dele dar pistas do gigante que se tornaria. Incentivamos a produção local para garantir robustez no abastecimento da indústria, em laboratórios qualificados, e em uma dedicada equipe de campo para apoiar o nascimento e desenvolvimento de cada biorrefinaria na região”, salienta o diretor de negócios da companhia.PROGRAMAÇÃONo primeiro dia, serão discutidos o cenário macroeconômico e as tendências da indústria. Isso inclui as oportunidades e desafios para o setor, como a comercialização de etanol, a conversão do agronegócio em agroindústria e o ambiente de negócios do DDGS, um coproduto da produção de etanol de milho. Além disso, serão exploradas inovações no futuro dos biocombustíveis, como o e-Metanol, o etanol marítimo e novos mercados.O segundo dia abordará a rentabilidade da operação e explorará estratégias para o crescimento da indústria, financiamento e modelos de negócio. O evento encerrará com painel dedicado à inovação, incluindo a aplicação de inteligência artificial no processo, eficiência energética e a operação de plantas multicereais.',\n",
       "  'noticia_subtitulo': 'NA',\n",
       "  'noticia_autor': 'Fonte: ASSESSORIA DE IMPRENSA'}]"
      ]
     },
     "execution_count": 43,
     "metadata": {},
     "output_type": "execute_result"
    }
   ],
   "source": [
    "noticias_json"
   ]
  },
  {
   "cell_type": "markdown",
   "metadata": {},
   "source": [
    "---"
   ]
  },
  {
   "cell_type": "markdown",
   "metadata": {},
   "source": [
    "## Parte 7: Scrapy"
   ]
  },
  {
   "cell_type": "markdown",
   "metadata": {},
   "source": [
    "### Exercício 9:\n",
    "Escolha um dos sites da lista fornecida (que não tenha sido escolhido nas anteriores) para montar um projeto no Scrapy que abarque tanto o Crawling quanto o Scraping, a fim de rodá-lo tal como na questão anterior."
   ]
  },
  {
   "cell_type": "code",
   "execution_count": 44,
   "metadata": {},
   "outputs": [],
   "source": [
    "#==> Importando biblioteca\n",
    "import scrapy\n",
    "import json\n",
    "import pprint "
   ]
  },
  {
   "cell_type": "code",
   "execution_count": 45,
   "metadata": {},
   "outputs": [],
   "source": [
    "#==> Criando projeto scrapping \n",
    "# !scrapy startproject at_scrapy"
   ]
  },
  {
   "cell_type": "code",
   "execution_count": 46,
   "metadata": {},
   "outputs": [],
   "source": [
    "#==> Executando comando no bash"
   ]
  },
  {
   "cell_type": "code",
   "execution_count": 47,
   "metadata": {},
   "outputs": [],
   "source": [
    "# %%bash\n",
    "# cd /home/maik/_repos/ATDR2/src/at_scrapy/at_scrapy/spiders\n",
    "# scrapy genspider rondonia_noticias rondoniadinamica.com/ultimas-noticias"
   ]
  },
  {
   "cell_type": "code",
   "execution_count": 48,
   "metadata": {},
   "outputs": [],
   "source": [
    "#==> Executando comando no bash"
   ]
  },
  {
   "cell_type": "code",
   "execution_count": 49,
   "metadata": {},
   "outputs": [],
   "source": [
    "# %%bash\n",
    "# cd /home/maik/_repos/ATDR2/src/at_scrapy/at_scrapy/spiders\n",
    "# scrapy crawl rondonia_noticias -o rondonia_noticias.json"
   ]
  },
  {
   "cell_type": "code",
   "execution_count": 50,
   "metadata": {},
   "outputs": [],
   "source": [
    "#==> Executando comando no bash"
   ]
  },
  {
   "cell_type": "code",
   "execution_count": 51,
   "metadata": {},
   "outputs": [],
   "source": [
    "# %%bash\n",
    "# cd /home/maik/_repos/ATDR2/src/at_scrapy/at_scrapy/spiders\n",
    "# scrapy crawl rondonia_noticias -o rondonia_noticias.json"
   ]
  },
  {
   "cell_type": "code",
   "execution_count": 52,
   "metadata": {},
   "outputs": [
    {
     "data": {
      "text/plain": [
       "[{'noticia': None, 'publicacao': None, 'link': None},\n",
       " {'noticia': 'Pesquisa da ‘Futura Inteligência’ mostra que haverá segundo turno, pois Mariana teria apenas 45,4% dos votos',\n",
       "  'publicacao': 'ARTIGO - Publicada em 29/09/2024',\n",
       "  'link': '/noticias/2024/09/pesquisa-da-futura-inteligencia-mostra-que-havera-segundo-turno-pois-mariana-teria-apenas-454-dos-votos,200659.shtml'},\n",
       " {'noticia': 'Ladrão de moto troca tiros com a PM após assalto na zona Leste',\n",
       "  'publicacao': 'AÇÃO - Publicada em 29/09/2024',\n",
       "  'link': '/noticias/2024/09/ladrao-de-moto-troca-tiros-com-a-pm-apos-assalto-na-zona-leste,200658.shtml'},\n",
       " {'noticia': 'Jovem é alvejado a tiros por grupo em carro residencial Porto Madero ',\n",
       "  'publicacao': 'Porto Velho - Publicada em 29/09/2024',\n",
       "  'link': '/noticias/2024/09/jovem-e-alvejado-a-tiros-por-grupo-em-carro-residencial-porto-madero-,200657.shtml'},\n",
       " {'noticia': 'Homem é executado com tiro na cabeça na zona leste',\n",
       "  'publicacao': 'Violência - Publicada em 29/09/2024',\n",
       "  'link': '/noticias/2024/09/homem-e-executado-com-tiro-na-cabeca-na-zona-leste,200656.shtml'},\n",
       " {'noticia': 'Motociclista fica ferida ao colidir na traseira de caminhão na BR-364',\n",
       "  'publicacao': 'JARU - Publicada em 29/09/2024',\n",
       "  'link': '/noticias/2024/09/motociclista-fica-ferida-ao-colidir-na-traseira-de-caminhao-na-br-364,200655.shtml'},\n",
       " {'noticia': 'Ataque a tiros deixa um morto e dois baleados em Festival de Praia',\n",
       "  'publicacao': 'Costa Marques - Publicada em 29/09/2024',\n",
       "  'link': '/noticias/2024/09/ataque-a-tiros-deixa-um-morto-e-dois-baleados-em-festival-de-praia,200654.shtml'},\n",
       " {'noticia': 'Acidente com carreta carregada de tinta interdita BR-364',\n",
       "  'publicacao': 'Acidente - Publicada em 29/09/2024',\n",
       "  'link': '/noticias/2024/09/acidente-com-carreta-carregada-de-tinta-interdita-br-364,200653.shtml'},\n",
       " {'noticia': 'Cirone Deiró e AFRO Promovem Torneio Feminino na ASSEMUC: 21 Equipes Contempladas com Kits Personalizados e Investimento Estadual',\n",
       "  'publicacao': 'CACOAL - Publicada em 29/09/2024',\n",
       "  'link': '/noticias/2024/09/cirone-deiro-e-afro-promovem-torneio-feminino-na-assemuc-21-equipes-contempladas-com-kits-personalizados-e-investimento-estadual,200652.shtml'},\n",
       " {'noticia': 'O Dia na História - BOM DIA 29 DE SETEMBRO',\n",
       "  'publicacao': 'COLUNA - Publicada em 29/09/2024',\n",
       "  'link': '/noticias/2024/09/o-dia-na-historia-bom-dia-29-de-setembro,200651.shtml'},\n",
       " {'noticia': 'PREVISÃO DO TEMPO: Região Norte espera chuvas isoladas neste domingo (29)',\n",
       "  'publicacao': 'Tempo - Publicada em 29/09/2024',\n",
       "  'link': '/noticias/2024/09/previsao-do-tempo-regiao-norte-espera-chuvas-isoladas-neste-domingo-29,200650.shtml'},\n",
       " {'noticia': None, 'publicacao': None, 'link': None},\n",
       " {'noticia': 'Leo Dias é assaltado e tem relógio de luxo avaliado em R$ 200 mil roubado: “Quebrei a cara”',\n",
       "  'publicacao': 'PREJUÍZO - Publicada em 28/09/2024',\n",
       "  'link': '/noticias/2024/09/leo-dias-e-assaltado-e-tem-relogio-de-luxo-avaliado-em-r-200-mil-roubado-quebrei-a-cara,200639.shtml'},\n",
       " {'noticia': 'Outubro terá bandeira tarifária mais cara do sistema nas contas de luz',\n",
       "  'publicacao': 'BANDEIRA VERMELHA - Publicada em 28/09/2024',\n",
       "  'link': '/noticias/2024/09/outubro-tera-bandeira-tarifaria-mais-cara-do-sistema-nas-contas-de-luz,200638.shtml'},\n",
       " {'noticia': 'Dívida no \"jogo do tigrinho\" faz mulher planejar execução de credor',\n",
       "  'publicacao': 'INVESTIGAÇÃO - Publicada em 28/09/2024',\n",
       "  'link': '/noticias/2024/09/divida-no-jogo-do-tigrinho-faz-mulher-planejar-execucao-de-credor,200637.shtml'},\n",
       " {'noticia': 'Energisa contabiliza quase 300 ocorrências devido a temporal em Vilhena',\n",
       "  'publicacao': 'TEMPO ADVERSO - Publicada em 28/09/2024',\n",
       "  'link': '/noticias/2024/09/energisa-contabiliza-quase-300-ocorrencias-devido-a-temporal-em-vilhena,200636.shtml'},\n",
       " {'noticia': 'Nego do Borel agride filho de Otávio Mesquita após provocação durante preparativos para luta',\n",
       "  'publicacao': 'TRETA - Publicada em 28/09/2024',\n",
       "  'link': '/noticias/2024/09/nego-do-borel-agride-filho-de-otavio-mesquita-apos-provocacao-durante-preparativos-para-luta,200635.shtml'},\n",
       " {'noticia': 'Supremo rejeita recursos para garantir revisão da vida toda do INSS',\n",
       "  'publicacao': 'PREVIDÊNCIA - Publicada em 28/09/2024',\n",
       "  'link': '/noticias/2024/09/supremo-rejeita-recursos-para-garantir-revisao-da-vida-toda-do-inss,200634.shtml'},\n",
       " {'noticia': 'Recusa familiar é o principal motivo para não efetivação de transplantes de órgãos, diz Ministério da Saúde',\n",
       "  'publicacao': 'SAÚDE - Publicada em 28/09/2024',\n",
       "  'link': '/noticias/2024/09/recusa-familiar-e-o-principal-motivo-para-nao-efetivacao-de-transplantes-de-orgaos-diz-ministerio-da-saude,200633.shtml'},\n",
       " {'noticia': 'Neymar celebra reencontro com Bruna Biancardi e Mavie em Dubai',\n",
       "  'publicacao': 'CRAQUE DA SELEÇÃO - Publicada em 28/09/2024',\n",
       "  'link': '/noticias/2024/09/neymar-celebra-reencontro-com-bruna-biancardi-e-mavie-em-dubai,200632.shtml'},\n",
       " {'noticia': 'Obras no cemitério de Rolim de Moura só poderão ser feitas até dia 20 de outubro',\n",
       "  'publicacao': 'DETERMINAÇÃO - Publicada em 28/09/2024',\n",
       "  'link': '/noticias/2024/09/obras-no-cemiterio-de-rolim-de-moura-so-poderao-ser-feitas-ate-dia-20-de-outubro,200631.shtml'},\n",
       " {'noticia': 'Andressa Suita apoia Gusttavo Lima: “Nunca se esqueça que você é o embaixador, o maior do mundo”',\n",
       "  'publicacao': 'APÓS POLÊMICA - Publicada em 28/09/2024',\n",
       "  'link': '/noticias/2024/09/andressa-suita-apoia-gusttavo-lima-nunca-se-esqueca-que-voce-e-o-embaixador-o-maior-do-mundo,200630.shtml'},\n",
       " {'noticia': None, 'publicacao': None, 'link': None},\n",
       " {'noticia': 'PRF intercepta 3 kg de entorpecentes na BR 425 em Guajará-Mirim',\n",
       "  'publicacao': 'DROGA - Publicada em 28/09/2024',\n",
       "  'link': '/noticias/2024/09/prf-intercepta-3-kg-de-entorpecentes-na-br-425-em-guajara-mirim,200649.shtml'},\n",
       " {'noticia': 'Governo de Rondônia\\xa0participa do lançamento do Programa Centelha III que investirá R$ 124 milhões em todo o Brasil ',\n",
       "  'publicacao': 'EMPREENDEDORISMO INOVADOR - Publicada em 28/09/2024',\n",
       "  'link': '/noticias/2024/09/governo-de-rondonia-participa-do-lancamento-do-programa-centelha-iii-que-investira-r-124-milhoes-em-todo-o-brasil-,200648.shtml'},\n",
       " {'noticia': 'OPINIÃO - Perspectivas das eleições para prefeito nas principais cidades de Rondônia',\n",
       "  'publicacao': 'ELEIÇÕES 2024 - Publicada em 28/09/2024',\n",
       "  'link': '/noticias/2024/09/opiniao-perspectivas-das-eleicoes-para-prefeito-nas-principais-cidades-de-rondonia,200647.shtml'},\n",
       " {'noticia': 'Publicado pelo governo de Rondônia\\xa0edital para contratação temporária de brigadistas estaduais',\n",
       "  'publicacao': 'REFORÇO - Publicada em 28/09/2024',\n",
       "  'link': '/noticias/2024/09/publicado-pelo-governo-de-rondonia-edital-para-contratacao-temporaria-de-brigadistas-estaduais,200646.shtml'},\n",
       " {'noticia': 'Comunicação do governo de Rondônia recebe homenagem da Polícia Civil pela colaboração em serviços relevantes à sociedade',\n",
       "  'publicacao': 'RECONHECIMENTO - Publicada em 28/09/2024',\n",
       "  'link': '/noticias/2024/09/comunicacao-do-governo-de-rondonia-recebe-homenagem-da-policia-civil-pela-colaboracao-em-servicos-relevantes-a-sociedade,200645.shtml'},\n",
       " {'noticia': 'Projeto de recuperação das nascentes do Rio Pirarara reforça combate à crise hídrica\\xa0',\n",
       "  'publicacao': 'CACOAL - Publicada em 28/09/2024',\n",
       "  'link': '/noticias/2024/09/projeto-de-recuperacao-das-nascentes-do-rio-pirarara-reforca-combate-a-crise-hidrica-,200644.shtml'},\n",
       " {'noticia': 'InfoGripe: casos de síndrome respiratória por Covid-19 continuam crescendo',\n",
       "  'publicacao': 'AUMENTO DE CASOS - Publicada em 28/09/2024',\n",
       "  'link': '/noticias/2024/09/infogripe-casos-de-sindrome-respiratoria-por-covid-19-continuam-crescendo,200643.shtml'},\n",
       " {'noticia': ' Mariana com Bolsonaro; Euma vinculada a Confúcio e Tebet; Léo sozinho; e Benedito tenta “grudar” em Marçal',\n",
       "  'publicacao': 'EDITORIAL - Publicada em 28/09/2024',\n",
       "  'link': '/noticias/2024/09/-mariana-com-bolsonaro-euma-vinculada-a-confucio-e-tebet-leo-sozinho-e-benedito-tenta-grudar-em-marcal,200642.shtml'},\n",
       " {'noticia': 'Rio terá sábado de chuva fraca e temperatura em declínio',\n",
       "  'publicacao': 'PREVISÃO - Publicada em 28/09/2024',\n",
       "  'link': '/noticias/2024/09/rio-tera-sabado-de-chuva-fraca-e-temperatura-em-declinio,200641.shtml'},\n",
       " {'noticia': 'Dirigível contratado pelo São Paulo cai sobre casas em Osasco',\n",
       "  'publicacao': 'INCIDENTE - Publicada em 28/09/2024',\n",
       "  'link': '/noticias/2024/09/dirigivel-contratado-pelo-sao-paulo-cai-sobre-casas-em-osasco,200640.shtml'}]"
      ]
     },
     "execution_count": 52,
     "metadata": {},
     "output_type": "execute_result"
    }
   ],
   "source": [
    "#==> Lendo .json\n",
    "with open('/home/maik/_repos/ATDR2/src/at_scrapy/at_scrapy/spiders/rondonia_noticias.json', 'r', encoding='utf-8') as f:\n",
    "    dados = json.load(f) \n",
    "    \n",
    "dados"
   ]
  },
  {
   "cell_type": "markdown",
   "metadata": {},
   "source": [
    "---"
   ]
  },
  {
   "cell_type": "markdown",
   "metadata": {},
   "source": [
    "## Parte 8: Selenium"
   ]
  },
  {
   "cell_type": "markdown",
   "metadata": {},
   "source": [
    "### Exercício 10:\n",
    "Extraia uma lista de empregos do site [**Indeed**](https://br.indeed.com). Extraia os títulos dos empregos da primeira página de resultados ao pesquisar por \"Data Scientist\" na área da capital de seu estado. O site usa JavaScript para carregar as listas dinamicamente, o que significa que você não pode recuperar esses dados simplesmente usando solicitações ou `BeautifulSoup`. Escreva um script em Python usando Selenium para extrair os títulos dos empregos desta página junto a outras informações que você considere relevante."
   ]
  },
  {
   "cell_type": "code",
   "execution_count": 53,
   "metadata": {},
   "outputs": [],
   "source": [
    "#==> Importando biblioteca\n",
    "from selenium import webdriver\n",
    "from selenium.webdriver.common.by import By"
   ]
  },
  {
   "cell_type": "code",
   "execution_count": 54,
   "metadata": {},
   "outputs": [],
   "source": [
    "#==> Instanciando\n",
    "driver = webdriver.Firefox() "
   ]
  },
  {
   "cell_type": "code",
   "execution_count": 55,
   "metadata": {},
   "outputs": [],
   "source": [
    "#==> Acessando site\n",
    "driver.get('https://br.indeed.com/')"
   ]
  },
  {
   "cell_type": "code",
   "execution_count": 56,
   "metadata": {},
   "outputs": [],
   "source": [
    "#==> Identificando elementos\n",
    "keyword_input = driver.find_element(By.CSS_SELECTOR, '#text-input-what')\n",
    "region_input = driver.find_element(By.CSS_SELECTOR, '#text-input-where')"
   ]
  },
  {
   "cell_type": "code",
   "execution_count": 57,
   "metadata": {},
   "outputs": [],
   "source": [
    "#==> Limpando campos\n",
    "keyword_input.clear()\n",
    "region_input.clear()\n",
    "\n",
    "#==> Enviando dados\n",
    "keyword_input.send_keys('Data Scientist')\n",
    "region_input.send_keys('Parana')"
   ]
  },
  {
   "cell_type": "code",
   "execution_count": 58,
   "metadata": {},
   "outputs": [],
   "source": [
    "#==> Idendificando/clicando no botao\n",
    "submit_button = driver.find_element(By.CSS_SELECTOR, 'button[type=submit]')\n",
    "submit_button.click()"
   ]
  },
  {
   "cell_type": "code",
   "execution_count": 59,
   "metadata": {},
   "outputs": [],
   "source": [
    "#==> Recuperando vagas\n",
    "cards = driver.find_elements(By.CSS_SELECTOR, 'div.job_seen_beacon')"
   ]
  },
  {
   "cell_type": "code",
   "execution_count": 60,
   "metadata": {},
   "outputs": [
    {
     "name": "stdout",
     "output_type": "stream",
     "text": [
      "Cientista de Dados - Pleno | MANFING SOFTWARE LTDA | Estamos procurando alguém com experiência.\n",
      "Experiência com algoritmos de Machine Learning;\n",
      "Apresentar os resultados e recomendações para stakeholders e times…\n",
      "Posted\n",
      "Anunciada há mais de 30 dias·mais...\n",
      "\n",
      "Consulting Analyst | McKinsey & Company | Estamos procurando alguém com experiência.\n",
      "Experiência com algoritmos de Machine Learning;\n",
      "Apresentar os resultados e recomendações para stakeholders e times…\n",
      "Posted\n",
      "Anunciada há mais de 30 dias·mais...\n",
      "\n",
      "System Architect - Process Modeling | ExxonMobil | Estamos procurando alguém com experiência.\n",
      "Experiência com algoritmos de Machine Learning;\n",
      "Apresentar os resultados e recomendações para stakeholders e times…\n",
      "Posted\n",
      "Anunciada há mais de 30 dias·mais...\n",
      "\n"
     ]
    }
   ],
   "source": [
    "#==> Iterando nas vagas\n",
    "for card in cards:\n",
    "    title = card.find_element(By.CSS_SELECTOR, 'h2 > a > span').text\n",
    "    company = card.find_element(By.CSS_SELECTOR, '[data-testid=\"company-name\"]').text\n",
    "    presentation_div = driver.find_element(By.CSS_SELECTOR, 'div[role=\"presentation\"].css-1u8dvic').text\n",
    "    print(title, company, presentation_div,  sep=' | ', end='\\n\\n')"
   ]
  },
  {
   "cell_type": "code",
   "execution_count": 61,
   "metadata": {},
   "outputs": [],
   "source": [
    "driver.quit()"
   ]
  },
  {
   "cell_type": "markdown",
   "metadata": {},
   "source": [
    "---"
   ]
  },
  {
   "cell_type": "markdown",
   "metadata": {},
   "source": [
    "[**Repositorio - Clique Aqui!**](https://github.com/maik-junior/ATDR2)"
   ]
  }
 ],
 "metadata": {
  "kernelspec": {
   "display_name": "Python 3 (ipykernel)",
   "language": "python",
   "name": "python3"
  },
  "language_info": {
   "codemirror_mode": {
    "name": "ipython",
    "version": 3
   },
   "file_extension": ".py",
   "mimetype": "text/x-python",
   "name": "python",
   "nbconvert_exporter": "python",
   "pygments_lexer": "ipython3",
   "version": "3.12.5"
  }
 },
 "nbformat": 4,
 "nbformat_minor": 4
}
